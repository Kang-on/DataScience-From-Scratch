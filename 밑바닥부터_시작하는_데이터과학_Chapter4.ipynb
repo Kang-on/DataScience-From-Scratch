{
  "nbformat": 4,
  "nbformat_minor": 0,
  "metadata": {
    "colab": {
      "provenance": [],
      "authorship_tag": "ABX9TyOVPn/rYX9r5QIaWCMveOyR",
      "include_colab_link": true
    },
    "kernelspec": {
      "name": "python3",
      "display_name": "Python 3"
    },
    "language_info": {
      "name": "python"
    }
  },
  "cells": [
    {
      "cell_type": "markdown",
      "metadata": {
        "id": "view-in-github",
        "colab_type": "text"
      },
      "source": [
        "<a href=\"https://colab.research.google.com/github/Kang-on/DataScience-From-Scratch/blob/main/%EB%B0%91%EB%B0%94%EB%8B%A5%EB%B6%80%ED%84%B0_%EC%8B%9C%EC%9E%91%ED%95%98%EB%8A%94_%EB%8D%B0%EC%9D%B4%ED%84%B0%EA%B3%BC%ED%95%99_Chapter4.ipynb\" target=\"_parent\"><img src=\"https://colab.research.google.com/assets/colab-badge.svg\" alt=\"Open In Colab\"/></a>"
      ]
    },
    {
      "cell_type": "code",
      "source": [
        "from typing import List\n",
        "Vector = List[float]"
      ],
      "metadata": {
        "id": "JV5fvUwVA0m2"
      },
      "execution_count": null,
      "outputs": []
    },
    {
      "cell_type": "code",
      "execution_count": null,
      "metadata": {
        "id": "8uVYDndA75BL"
      },
      "outputs": [],
      "source": [
        "def add(v: Vector, w: Vector) -> Vector:\n",
        "  \"\"\"각 성분끼리 더한다\"\"\"\n",
        "  assert len(v) == len(w) , \"vectors must be the same length\"\n",
        "\n",
        "  return [v_i + w_i for v_i, w_i in zip(v,w)]\n",
        "\n",
        "assert add([1,2,3], [4,5,6]) == [5,7,9]"
      ]
    },
    {
      "cell_type": "code",
      "source": [
        "def subtract(v: Vector, w: Vector) -> Vector:\n",
        "  \"\"\"각 성분끼리 뺀다\"\"\"\n",
        "  assert len(v) == len(w) , \"vectors must be the same length\"\n",
        "\n",
        "  return [v_i - w_i for v_i, w_i in zip(v,w)]\n",
        "\n",
        "assert subtract([5,7,9],[4,5,6]) == [1,2,3]"
      ],
      "metadata": {
        "id": "MlIZqVb6_uvO"
      },
      "execution_count": null,
      "outputs": []
    },
    {
      "cell_type": "code",
      "source": [
        "def vector_sum(vectors : List[Vector]) -> Vector:\n",
        "  \"\"\"모든 벡터의 각 성분들끼리 더한다.\"\"\"\n",
        "  #vectors가 비어있는 지 확인\n",
        "  assert vectors, \"no vectors provided\"\n",
        "\n",
        "  #모든 벡터의 길이가 동일한지 확인\n",
        "  num_elements = len(vectors[0])\n",
        "  assert all(len(v) == num_elements for v in vectors), \"different sizes!\"\n",
        "\n",
        "  #i번쨰 결괏값은 모든 벡터의 i번쨰 성분을 더한 값\n",
        "  return [sum(vector[i] for vector in vectors)\n",
        "          for i in range(num_elements)]\n",
        "\n",
        "assert vector_sum([[1,2],[3,4],[5,6],[7,8]]) == [16,20]"
      ],
      "metadata": {
        "id": "xAYagHnQAwFz"
      },
      "execution_count": null,
      "outputs": []
    },
    {
      "cell_type": "code",
      "source": [
        "def scalar_multiply(c:float, v:Vector) -> Vector:\n",
        "    \"\"\"모든 성분을 c로 곱하기\"\"\"\n",
        "\n",
        "    return [c*v_i for v_i in v]\n",
        "\n",
        "assert scalar_multiply(2, [1,2,3]) == [2,4,6]"
      ],
      "metadata": {
        "id": "7UUtO6q3BIT8"
      },
      "execution_count": null,
      "outputs": []
    },
    {
      "cell_type": "code",
      "source": [
        "def vector_mean(vectors: List[Vector]) -> Vector:\n",
        "  \"\"\"각 성분의 평균을 계산\"\"\"\n",
        "  n = len(vectors)\n",
        "  return scalar_multiply(1/n, vector_sum(vectors))\n",
        "assert vector_mean([[1,2],[3,4],[5,6]]) == [3,4]"
      ],
      "metadata": {
        "id": "N2-8Ih02C_K2"
      },
      "execution_count": null,
      "outputs": []
    },
    {
      "cell_type": "code",
      "source": [
        "def dot(v: Vector, w: Vector) -> float:\n",
        "  \"\"\"v_1 * w_1 + ... + v_n * w_n\"\"\"\n",
        "  assert len(v) == len(w), \"vectors must be same length\"\n",
        "\n",
        "  return sum(v_i*w_i for v_i,w_i in zip(v,w))\n",
        "assert dot([1,2,3],[4,5,6]) == 32 #1*4+2*5+3*6"
      ],
      "metadata": {
        "id": "AALomE_hC_7w"
      },
      "execution_count": null,
      "outputs": []
    },
    {
      "cell_type": "code",
      "source": [
        "def sum_of_squares(v: Vector) -> float:\n",
        "  \"\"\"v_1*v_1 + ... + v_n*v_n\"\"\"\n",
        "  return dot(v,v)\n",
        "assert sum_of_squares([1,2,3]) == 14"
      ],
      "metadata": {
        "id": "Ijg1DxeNC_9l"
      },
      "execution_count": null,
      "outputs": []
    },
    {
      "cell_type": "code",
      "source": [
        "import math\n",
        "\n",
        "def magnitude(v: Vector) -> float:\n",
        "  \"\"\"벡터 v의 크기를 반환\"\"\"\n",
        "  return math.sqrt(sum_of_squares(v))\n",
        "\n",
        "assert magnitude([3,4]) == 5"
      ],
      "metadata": {
        "id": "T_NbLw1pDABE"
      },
      "execution_count": null,
      "outputs": []
    },
    {
      "cell_type": "code",
      "source": [
        "def squared_distance(v: Vector, w: Vector) -> float:\n",
        "  return sum_of_squares(subtract(v,w))\n",
        "\n",
        "def distance(v: Vector, w: Vector) -> float:\n",
        "    return magnitude(squared_distance(v,w))"
      ],
      "metadata": {
        "id": "i35mJn7YEYON"
      },
      "execution_count": null,
      "outputs": []
    },
    {
      "cell_type": "markdown",
      "source": [
        "Matrix"
      ],
      "metadata": {
        "id": "XU-n7nt0F9zq"
      }
    },
    {
      "cell_type": "code",
      "source": [
        "Matrix = List[List[float]]\n",
        "from typing import Tuple"
      ],
      "metadata": {
        "id": "bERcxwXCF_za"
      },
      "execution_count": null,
      "outputs": []
    },
    {
      "cell_type": "code",
      "source": [
        "def shape(A: Matrix) -> Tuple[int, int]:\n",
        "  \"\"\"(# of rows, # of columns)\"\"\"\n",
        "  num_rows = len(A)\n",
        "  num_columns = len(A[0]) if A else 0\n",
        "  return num_rows, num_columns\n",
        "assert shape([[1,2,3],[4,5,6]]) == (2,3) #2행 3열"
      ],
      "metadata": {
        "id": "2mZ_se7_F__7"
      },
      "execution_count": null,
      "outputs": []
    },
    {
      "cell_type": "code",
      "source": [
        "from typing import Callable\n",
        "\n",
        "def make_matrix(num_rows : int,\n",
        "                num_cols : int,\n",
        "                entry_fn : Callable[[int,int], float]) -> Matrix:\n",
        "    \"\"\"\n",
        "      (i,j)번째 원소가 entry_fn(i,j)인\n",
        "      num_rows x num_cols 리스트를 반환\n",
        "    \"\"\"\n",
        "    return [[entry_fn(i,j)\n",
        "              for j in range(num_cols)]\n",
        "              for i in range(num_rows)]"
      ],
      "metadata": {
        "id": "-k2hZoNeGntI"
      },
      "execution_count": null,
      "outputs": []
    },
    {
      "cell_type": "code",
      "source": [
        "def identity_matrix(n:int) -> Matrix:\n",
        "    \"\"\"n*n단위행렬 반환\"\"\"\n",
        "    return make_matrix(n,n,lambda i,j: 1 if i==j else 0)\n",
        "\n",
        "assert identity_matrix(5) == [[1,0,0,0,0],\n",
        "                              [0,1,0,0,0],\n",
        "                              [0,0,1,0,0],\n",
        "                              [0,0,0,1,0],\n",
        "                              [0,0,0,0,1]]"
      ],
      "metadata": {
        "id": "5bNqVA79GnrR"
      },
      "execution_count": null,
      "outputs": []
    }
  ]
}